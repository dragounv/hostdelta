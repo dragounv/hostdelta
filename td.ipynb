{
 "cells": [
  {
   "cell_type": "code",
   "execution_count": 16,
   "metadata": {},
   "outputs": [
    {
     "name": "stdout",
     "output_type": "stream",
     "text": [
      "           host              max_delay              min_delay  \\\n",
      "0    www.nkp.cz 0 days 00:00:25.784000 0 days 00:00:03.075000   \n",
      "1        nkp.cz 0 days 00:00:03.132000 0 days 00:00:03.084000   \n",
      "2  webarchiv.cz 0 days 00:00:19.004000 0 days 00:00:03.093000   \n",
      "\n",
      "              average_delay  number_of_timestamps  \n",
      "0 0 days 00:00:05.419965909                    89  \n",
      "1    0 days 00:00:03.108000                     3  \n",
      "2 0 days 00:00:04.451345454                   111  \n"
     ]
    }
   ],
   "source": [
    "import pandas as pd\n",
    "import numpy as np\n",
    "\n",
    "\n",
    "data = pd.read_csv(\"./normal.csv\")\n",
    "# data[\"max_delay\"] = pd.to_timedelta(data[\"max_delay\"])\n",
    "# data[\"min_delay\"] = pd.to_timedelta(data[\"min_delay\"])\n",
    "# data[\"average_delay\"] = pd.to_timedelta(data[\"average_delay\"])\n",
    "print(data)"
   ]
  },
  {
   "cell_type": "code",
   "execution_count": 15,
   "metadata": {},
   "outputs": [
    {
     "data": {
      "text/plain": [
       "host                    object\n",
       "max_delay               object\n",
       "min_delay               object\n",
       "average_delay           object\n",
       "number_of_timestamps     int64\n",
       "dtype: object"
      ]
     },
     "execution_count": 15,
     "metadata": {},
     "output_type": "execute_result"
    }
   ],
   "source": [
    "data.dtypes"
   ]
  }
 ],
 "metadata": {
  "kernelspec": {
   "display_name": "Python 3",
   "language": "python",
   "name": "python3"
  },
  "language_info": {
   "codemirror_mode": {
    "name": "ipython",
    "version": 3
   },
   "file_extension": ".py",
   "mimetype": "text/x-python",
   "name": "python",
   "nbconvert_exporter": "python",
   "pygments_lexer": "ipython3",
   "version": "3.10.12"
  }
 },
 "nbformat": 4,
 "nbformat_minor": 2
}
